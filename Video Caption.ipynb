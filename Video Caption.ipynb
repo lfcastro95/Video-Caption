{
 "cells": [
  {
   "cell_type": "markdown",
   "metadata": {},
   "source": [
    "# Importação de bibliotecas"
   ]
  },
  {
   "cell_type": "code",
   "execution_count": 1,
   "metadata": {},
   "outputs": [
    {
     "name": "stdout",
     "output_type": "stream",
     "text": [
      "Requirement already satisfied: openai-whisper in c:\\users\\luizfernandodacostac\\appdata\\local\\programs\\python\\python312\\lib\\site-packages (20240930)\n",
      "Requirement already satisfied: numba in c:\\users\\luizfernandodacostac\\appdata\\local\\programs\\python\\python312\\lib\\site-packages (from openai-whisper) (0.60.0)\n",
      "Requirement already satisfied: numpy in c:\\users\\luizfernandodacostac\\appdata\\local\\programs\\python\\python312\\lib\\site-packages (from openai-whisper) (1.26.4)\n",
      "Requirement already satisfied: torch in c:\\users\\luizfernandodacostac\\appdata\\local\\programs\\python\\python312\\lib\\site-packages (from openai-whisper) (2.5.1)\n",
      "Requirement already satisfied: tqdm in c:\\users\\luizfernandodacostac\\appdata\\local\\programs\\python\\python312\\lib\\site-packages (from openai-whisper) (4.67.0)\n",
      "Requirement already satisfied: more-itertools in c:\\users\\luizfernandodacostac\\appdata\\local\\programs\\python\\python312\\lib\\site-packages (from openai-whisper) (10.5.0)\n",
      "Requirement already satisfied: tiktoken in c:\\users\\luizfernandodacostac\\appdata\\local\\programs\\python\\python312\\lib\\site-packages (from openai-whisper) (0.8.0)\n",
      "Requirement already satisfied: llvmlite<0.44,>=0.43.0dev0 in c:\\users\\luizfernandodacostac\\appdata\\local\\programs\\python\\python312\\lib\\site-packages (from numba->openai-whisper) (0.43.0)\n",
      "Requirement already satisfied: regex>=2022.1.18 in c:\\users\\luizfernandodacostac\\appdata\\local\\programs\\python\\python312\\lib\\site-packages (from tiktoken->openai-whisper) (2024.11.6)\n",
      "Requirement already satisfied: requests>=2.26.0 in c:\\users\\luizfernandodacostac\\appdata\\local\\programs\\python\\python312\\lib\\site-packages (from tiktoken->openai-whisper) (2.32.3)\n",
      "Requirement already satisfied: filelock in c:\\users\\luizfernandodacostac\\appdata\\local\\programs\\python\\python312\\lib\\site-packages (from torch->openai-whisper) (3.16.1)\n",
      "Requirement already satisfied: typing-extensions>=4.8.0 in c:\\users\\luizfernandodacostac\\appdata\\local\\programs\\python\\python312\\lib\\site-packages (from torch->openai-whisper) (4.12.2)\n",
      "Requirement already satisfied: networkx in c:\\users\\luizfernandodacostac\\appdata\\local\\programs\\python\\python312\\lib\\site-packages (from torch->openai-whisper) (3.4.2)\n",
      "Requirement already satisfied: jinja2 in c:\\users\\luizfernandodacostac\\appdata\\local\\programs\\python\\python312\\lib\\site-packages (from torch->openai-whisper) (3.1.4)\n",
      "Requirement already satisfied: fsspec in c:\\users\\luizfernandodacostac\\appdata\\local\\programs\\python\\python312\\lib\\site-packages (from torch->openai-whisper) (2024.10.0)\n",
      "Requirement already satisfied: setuptools in c:\\users\\luizfernandodacostac\\appdata\\local\\programs\\python\\python312\\lib\\site-packages (from torch->openai-whisper) (71.0.2)\n",
      "Requirement already satisfied: sympy==1.13.1 in c:\\users\\luizfernandodacostac\\appdata\\local\\programs\\python\\python312\\lib\\site-packages (from torch->openai-whisper) (1.13.1)\n",
      "Requirement already satisfied: mpmath<1.4,>=1.1.0 in c:\\users\\luizfernandodacostac\\appdata\\local\\programs\\python\\python312\\lib\\site-packages (from sympy==1.13.1->torch->openai-whisper) (1.3.0)\n",
      "Requirement already satisfied: colorama in c:\\users\\luizfernandodacostac\\appdata\\roaming\\python\\python312\\site-packages (from tqdm->openai-whisper) (0.4.6)\n",
      "Requirement already satisfied: charset-normalizer<4,>=2 in c:\\users\\luizfernandodacostac\\appdata\\local\\programs\\python\\python312\\lib\\site-packages (from requests>=2.26.0->tiktoken->openai-whisper) (3.3.2)\n",
      "Requirement already satisfied: idna<4,>=2.5 in c:\\users\\luizfernandodacostac\\appdata\\local\\programs\\python\\python312\\lib\\site-packages (from requests>=2.26.0->tiktoken->openai-whisper) (3.7)\n",
      "Requirement already satisfied: urllib3<3,>=1.21.1 in c:\\users\\luizfernandodacostac\\appdata\\local\\programs\\python\\python312\\lib\\site-packages (from requests>=2.26.0->tiktoken->openai-whisper) (2.2.2)\n",
      "Requirement already satisfied: certifi>=2017.4.17 in c:\\users\\luizfernandodacostac\\appdata\\local\\programs\\python\\python312\\lib\\site-packages (from requests>=2.26.0->tiktoken->openai-whisper) (2024.7.4)\n",
      "Requirement already satisfied: MarkupSafe>=2.0 in c:\\users\\luizfernandodacostac\\appdata\\local\\programs\\python\\python312\\lib\\site-packages (from jinja2->torch->openai-whisper) (3.0.2)\n",
      "Note: you may need to restart the kernel to use updated packages.\n",
      "Requirement already satisfied: srt in c:\\users\\luizfernandodacostac\\appdata\\local\\programs\\python\\python312\\lib\\site-packages (3.5.3)\n",
      "Note: you may need to restart the kernel to use updated packages.\n",
      "Requirement already satisfied: moviepy in c:\\users\\luizfernandodacostac\\appdata\\local\\programs\\python\\python312\\lib\\site-packages (1.0.3)\n",
      "Requirement already satisfied: decorator<5.0,>=4.0.2 in c:\\users\\luizfernandodacostac\\appdata\\local\\programs\\python\\python312\\lib\\site-packages (from moviepy) (4.4.2)\n",
      "Requirement already satisfied: tqdm<5.0,>=4.11.2 in c:\\users\\luizfernandodacostac\\appdata\\local\\programs\\python\\python312\\lib\\site-packages (from moviepy) (4.67.0)\n",
      "Requirement already satisfied: requests<3.0,>=2.8.1 in c:\\users\\luizfernandodacostac\\appdata\\local\\programs\\python\\python312\\lib\\site-packages (from moviepy) (2.32.3)\n",
      "Requirement already satisfied: proglog<=1.0.0 in c:\\users\\luizfernandodacostac\\appdata\\local\\programs\\python\\python312\\lib\\site-packages (from moviepy) (0.1.10)\n",
      "Requirement already satisfied: numpy>=1.17.3 in c:\\users\\luizfernandodacostac\\appdata\\local\\programs\\python\\python312\\lib\\site-packages (from moviepy) (1.26.4)\n",
      "Requirement already satisfied: imageio<3.0,>=2.5 in c:\\users\\luizfernandodacostac\\appdata\\local\\programs\\python\\python312\\lib\\site-packages (from moviepy) (2.36.0)\n",
      "Requirement already satisfied: imageio-ffmpeg>=0.2.0 in c:\\users\\luizfernandodacostac\\appdata\\local\\programs\\python\\python312\\lib\\site-packages (from moviepy) (0.5.1)\n",
      "Requirement already satisfied: pillow>=8.3.2 in c:\\users\\luizfernandodacostac\\appdata\\local\\programs\\python\\python312\\lib\\site-packages (from imageio<3.0,>=2.5->moviepy) (10.4.0)\n",
      "Requirement already satisfied: setuptools in c:\\users\\luizfernandodacostac\\appdata\\local\\programs\\python\\python312\\lib\\site-packages (from imageio-ffmpeg>=0.2.0->moviepy) (71.0.2)\n",
      "Requirement already satisfied: charset-normalizer<4,>=2 in c:\\users\\luizfernandodacostac\\appdata\\local\\programs\\python\\python312\\lib\\site-packages (from requests<3.0,>=2.8.1->moviepy) (3.3.2)\n",
      "Requirement already satisfied: idna<4,>=2.5 in c:\\users\\luizfernandodacostac\\appdata\\local\\programs\\python\\python312\\lib\\site-packages (from requests<3.0,>=2.8.1->moviepy) (3.7)\n",
      "Requirement already satisfied: urllib3<3,>=1.21.1 in c:\\users\\luizfernandodacostac\\appdata\\local\\programs\\python\\python312\\lib\\site-packages (from requests<3.0,>=2.8.1->moviepy) (2.2.2)\n",
      "Requirement already satisfied: certifi>=2017.4.17 in c:\\users\\luizfernandodacostac\\appdata\\local\\programs\\python\\python312\\lib\\site-packages (from requests<3.0,>=2.8.1->moviepy) (2024.7.4)\n",
      "Requirement already satisfied: colorama in c:\\users\\luizfernandodacostac\\appdata\\roaming\\python\\python312\\site-packages (from tqdm<5.0,>=4.11.2->moviepy) (0.4.6)\n",
      "Note: you may need to restart the kernel to use updated packages.\n",
      "Requirement already satisfied: ffmpeg-python in c:\\users\\luizfernandodacostac\\appdata\\local\\programs\\python\\python312\\lib\\site-packages (0.2.0)\n",
      "Requirement already satisfied: future in c:\\users\\luizfernandodacostac\\appdata\\local\\programs\\python\\python312\\lib\\site-packages (from ffmpeg-python) (1.0.0)\n",
      "Note: you may need to restart the kernel to use updated packages.\n"
     ]
    }
   ],
   "source": [
    "#biblioteca do OpenAI\n",
    "%pip install openai-whisper\n",
    "#biblioteca pra salvar a transcrição\n",
    "%pip install srt\n",
    "#bibliotecas para extrair áudio do vídeo\n",
    "%pip install moviepy\n",
    "%pip install ffmpeg-python\n"
   ]
  },
  {
   "cell_type": "code",
   "execution_count": 2,
   "metadata": {},
   "outputs": [],
   "source": [
    "from moviepy.editor import VideoFileClip\n",
    "import whisper\n",
    "import subprocess\n",
    "import srt"
   ]
  },
  {
   "cell_type": "markdown",
   "metadata": {},
   "source": [
    "# Extrair vídeo e áudio"
   ]
  },
  {
   "cell_type": "code",
   "execution_count": null,
   "metadata": {},
   "outputs": [
    {
     "name": "stdout",
     "output_type": "stream",
     "text": [
      "MoviePy - Writing audio in audio.wav\n"
     ]
    },
    {
     "name": "stderr",
     "output_type": "stream",
     "text": [
      "                                                                      "
     ]
    },
    {
     "name": "stdout",
     "output_type": "stream",
     "text": [
      "MoviePy - Done.\n"
     ]
    },
    {
     "name": "stderr",
     "output_type": "stream",
     "text": [
      "\r"
     ]
    }
   ],
   "source": [
    "#extraindo áudio do vídeo\n",
    "#video_path é o caminho do arquivo. O r na frente do caminho pode ser necessário ou não\n",
    "video_path = r\"C:\\Users\\LuizFernandoDaCostaC\\Box\\pessoal\\Pessoal\\Github\\Video-Caption\\WhatsApp_Video_2024-11-07_at_11.21.24.mp4\"\n",
    "video = VideoFileClip(video_path) #retira o vídeo\n",
    "audio_path = \"audio.wav\" #define o caminho do áudio como .wav\n",
    "video.audio.write_audiofile(audio_path) #extrai o áudio do vídeo"
   ]
  },
  {
   "cell_type": "code",
   "execution_count": null,
   "metadata": {},
   "outputs": [
    {
     "name": "stdout",
     "output_type": "stream",
     "text": [
      " Coisa galera, eu estou aqui com o Patrick ou Chico Moedas Vascaíno, se você preferir? Jennifer Miguel Então vamos lá, primeira pergunta, é verdade que quando a pessoa doa, ela pode contrair alguma doença? É falso Falso, isso é mentira Isso aí galera, é falso, pode doar, sem problema você não vai contrair doença Próxima pergunta, é verdade que se você doar numa frequência maior de três meses, você pode contrair algum tipo de problema na saúde? É falso também É falso Não, isso é mentira Homens podem doar de dois em dois meses, mulheres podem doar de três em três meses É aqui a informação, ele sabe tudo, tá? Passou disso, você pode doar sem problema, você não vai ter problema na saúde E agora, nossa última pergunta, é verdade que uma bolsa de sangue você pode salvar até três vidas? Mentira, você pode doar sangue e salvar até quatro vidas É verdade É verdade E verdade também, gabaritaram aqui, vocês sabem tudo, a situação de sangue, hein? Uma bolsa de sangue salva de três a quatro vidas Então, o seu sangue é muito importante Gente, quem chega aqui no hemorrío, se depara com essa estátua aqui, que é da doadora Você sabe a história dela? Pois é, porque eu também não sei, se você souber, posta aí\n"
     ]
    }
   ],
   "source": [
    "#modelo whisper\n",
    "model = whisper.load_model(\"small\")  # Pode usar o modelo como small, medium, base ou large. Isso define o tamanho da base de dados em linguagem que será usada para treinar o modelo. Quanto maior o tamanho, maior a acurácia da transcrição, mas maior o tempo de processamento.\n",
    "# transcrição em português\n",
    "result = model.transcribe(audio_path, language=\"pt\", word_timestamps=True)\n",
    "\n",
    "# imprimir o resultado da transcrição\n",
    "print(result[\"text\"])"
   ]
  },
  {
   "cell_type": "markdown",
   "metadata": {},
   "source": [
    "# Criar o texto do vídeo"
   ]
  },
  {
   "cell_type": "code",
   "execution_count": null,
   "metadata": {},
   "outputs": [
    {
     "name": "stdout",
     "output_type": "stream",
     "text": [
      "Subtitles saved to output.srt\n"
     ]
    }
   ],
   "source": [
    "#função para dividir o texto por palavras e com o timer a cada palavra dita (pra sincronizar o texto com a fala)\n",
    "def split_text_with_word_timing(segments, max_chars=35): #max_chars junta as divisões por palavras em caracteres máximos pra aparecer a cada vez\n",
    "    subs = []\n",
    "    index = 1\n",
    "\n",
    "    for seg in segments:\n",
    "        if \"words\" in seg:  # Check if word-level timestamps are available\n",
    "            words = seg[\"words\"]\n",
    "            line = \"\"\n",
    "            line_start = None\n",
    "            for word in words:\n",
    "                if line_start is None:\n",
    "                    line_start = word[\"start\"]\n",
    "                # Append word to line if it doesn't exceed max length\n",
    "                if len(line) + len(word[\"word\"]) <= max_chars:\n",
    "                    line += (\"\" if line == \"\" else \" \") + word[\"word\"]\n",
    "                else:\n",
    "                    # Close the line and save as a subtitle\n",
    "                    line_end = word[\"start\"]\n",
    "                    subs.append(srt.Subtitle(index=index, start=srt.timedelta(seconds=line_start), end=srt.timedelta(seconds=line_end), content=line))\n",
    "                    index += 1\n",
    "                    # Start a new line with the current word\n",
    "                    line = word[\"word\"]\n",
    "                    line_start = word[\"start\"]\n",
    "\n",
    "            # Append the last line in the segment\n",
    "            if line:\n",
    "                line_end = seg[\"end\"]\n",
    "                subs.append(srt.Subtitle(index=index, start=srt.timedelta(seconds=line_start), end=srt.timedelta(seconds=line_end), content=line))\n",
    "                index += 1\n",
    "        else:\n",
    "            # Fallback to segment-level timing if word-level timestamps are missing\n",
    "            line = seg[\"text\"]\n",
    "            line_start = seg[\"start\"]\n",
    "            line_end = seg[\"end\"]\n",
    "            subs.append(srt.Subtitle(index=index, start=srt.timedelta(seconds=line_start), end=srt.timedelta(seconds=line_end), content=line))\n",
    "            index += 1\n",
    "\n",
    "    return subs\n",
    "\n",
    "\n",
    "\n",
    "# Get the segments from your transcription result\n",
    "segments = result[\"segments\"]\n",
    "\n",
    "# Use the function to split the text based on word-level timestamps\n",
    "subs = split_text_with_word_timing(segments)\n",
    "\n",
    "# salvar em arquivo srt (legendas)\n",
    "srt_filename = \"output.srt\"\n",
    "with open(srt_filename, \"w\", encoding=\"utf-8\") as f:\n",
    "    f.write(srt.compose(subs))\n",
    "\n",
    "print(f\"Subtitles saved to {srt_filename}\")"
   ]
  },
  {
   "cell_type": "markdown",
   "metadata": {},
   "source": [
    "# Gerar Vídeo"
   ]
  },
  {
   "cell_type": "code",
   "execution_count": null,
   "metadata": {},
   "outputs": [
    {
     "name": "stdout",
     "output_type": "stream",
     "text": [
      "Video saved as output_video.mp4\n"
     ]
    }
   ],
   "source": [
    "#código para gerar o vídeo com legenda usando ffmpeg\n",
    "output_path = \"output_video.mp4\" #define o caminho como um arquivo de nome output_video em formato mp4\n",
    "\n",
    "#parâmetros para a personalização e geração da legenda\n",
    "ffmpeg_command = [\n",
    "    'ffmpeg',\n",
    "    '-i', video_path,  # Input video path\n",
    "    '-vf', f\"subtitles={srt_filename}:force_style='Fontname=Arial Black,Fontsize=17,FontWeight=1000,BorderStyle=1,Outline=1,OutlineColour=&H00000080,Shadow=0.2,MarginV=50'\",\n",
    "    '-c:a', 'copy',  # Copy audio without encoding\n",
    "    \"-c:v\", \"libx264\",             # Video codec (H.264)\n",
    "    \"-c:a\", \"aac\",                 # Audio codec (AAC)\n",
    "    \"-preset\", \"fast\",             # Encoding preset\n",
    "    '-y',  # Automatically overwrite output file -> importante para não dar erro caso já exista um arquivo com o mesmo nome na pasta\n",
    "    output_path  # Output file path\n",
    "]\n",
    "\n",
    "# executa o comando acima\n",
    "subprocess.run(ffmpeg_command)\n",
    "\n",
    "print(f\"Video saved as {output_path}\") #mensagem para confirmar que o vídeo foi salvo com sucesso"
   ]
  }
 ],
 "metadata": {
  "kernelspec": {
   "display_name": "Python 3",
   "language": "python",
   "name": "python3"
  },
  "language_info": {
   "codemirror_mode": {
    "name": "ipython",
    "version": 3
   },
   "file_extension": ".py",
   "mimetype": "text/x-python",
   "name": "python",
   "nbconvert_exporter": "python",
   "pygments_lexer": "ipython3",
   "version": "3.12.4"
  }
 },
 "nbformat": 4,
 "nbformat_minor": 2
}
